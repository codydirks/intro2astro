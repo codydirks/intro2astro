{
 "cells": [
  {
   "cell_type": "code",
   "execution_count": 1,
   "metadata": {},
   "outputs": [],
   "source": [
    "from itertools import groupby,chain\n",
    "import requests\n",
    "import random\n",
    "import copy"
   ]
  },
  {
   "cell_type": "code",
   "execution_count": 2,
   "metadata": {},
   "outputs": [],
   "source": [
    "# Returns all raw student info from a given Canvas course.\n",
    "def _get_student_info(course_id, canvas_auth_token):\n",
    "    canvas_domain='https://canvas.northwestern.edu'\n",
    "    # Need to check number of students, since if >100 Canvas will paginate results,\n",
    "    # which necessitates generating multiple queries\n",
    "    max_per_page=100 # This seems to be the absolute max allowed, probably don't change this\n",
    "    url=[canvas_domain,\n",
    "         '/api/v1/courses/',\n",
    "         str(course_id),\n",
    "         '?include[]=total_students&access_token=',\n",
    "         canvas_auth_token\n",
    "        ]\n",
    "    c=requests.get(''.join(url)).json()\n",
    "    num_students=c['total_students']\n",
    "    pages=int(num_students/max_per_page)+1\n",
    "    \n",
    "    # Grabs the pages of enrolled users from Canvas, returns all enrolled users\n",
    "    base_student_url=[canvas_domain,\n",
    "                      '/api/v1/courses/',\n",
    "                      str(course_id),\n",
    "                      '/enrollments',# Specifies course and desired data\n",
    "                      '?type=StudentEnrollment', # Only grab students, ignore TAs, teachers\n",
    "                      '&include[]=group_ids', # Also include group info - may be useful\n",
    "                      '&per_page='+str(max_per_page),\n",
    "                      '&access_token='+canvas_auth_token # parameters\n",
    "                      ]\n",
    "\n",
    "    student_pages=[requests.get(''.join(base_student_url)+'&page='+str(i)).json() for i in range(1,pages+1)]\n",
    "    return list(chain.from_iterable(student_pages))\n",
    "\n",
    "\n",
    "\n",
    "# This function returns student information from Canvas, given a course ID and an\n",
    "# authentication token. Info is returned as a list of tuples with the format (name, group number)\n",
    "def load_students_from_canvas_course(course_id, canvas_auth_token):\n",
    "    stdnts=_get_student_info(course_id, canvas_auth_token)\n",
    "    offset=min([stdnt['user']['group_ids'][0] for stdnt in stdnts])-1\n",
    "    return [(stdnt['user']['sortable_name'], int(stdnt['user']['group_ids'][0]-offset)) for stdnt in stdnts]\n",
    "\n",
    "# As an alternative to Canvas, can provide a csv file of student group info\n",
    "# Each line of this file should have the following format:\n",
    "# Last name, First name, Group number\n",
    "def load_students_from_file(filename):\n",
    "    stdnts=[]\n",
    "    with open(filename, 'r') as myfile:\n",
    "        for line in myfile:\n",
    "            dat=[x.strip() for x in line.strip('\\n').split(',')]\n",
    "            name=dat[0]+', '+dat[1]\n",
    "            stdnts.append((unicode(name, 'utf-8'),int(dat[2])))\n",
    "    return stdnts\n",
    "\n",
    "\n",
    "\n",
    "# This function takes a \"results\" list that is output from the peer-review \n",
    "# assigning algorithm and emails the students their peer-review assignments.\n",
    "def email_students_in_canvas(results, course_id, canvas_auth_token):\n",
    "    canvas_domain='https://canvas.northwestern.edu'\n",
    "    # Emailing students requires their user_id within Canvas, so we grab\n",
    "    # student info so we can match names to ids\n",
    "    student_info=_get_student_info(course_id, canvas_auth_token)\n",
    "    \n",
    "    # Construct the template email to be sent out\n",
    "    email_subj='Peer Review Videos'\n",
    "    email_body=''.join(['Hi {0},\\n\\n',\n",
    "         'Please peer-review the videos from Groups {1} and {2}.\\n\\n',\n",
    "         'Cheers,\\n\\n',\n",
    "         '[YourNameHere]'])\n",
    "    \n",
    "    for result in results:\n",
    "        user_id=[s['user']['id'] for s in student_info if s['user']['sortable_name']==result[0]][0]\n",
    "        msg=''.join(email_body).format(result[0].split(',')[1].strip(), *result[2])\n",
    "        email_url=[canvas_domain,\n",
    "                  '/api/v1/conversations',\n",
    "                  '?recipients[]='+str(user_id),\n",
    "                  '&subject='+email_subj,\n",
    "                  '&body='+msg,\n",
    "                  '&access_token='+canvas_auth_token]\n",
    "        requests.post(''.join(email_url))\n",
    "        \n"
   ]
  },
  {
   "cell_type": "markdown",
   "metadata": {},
   "source": [
    "Initialization cell. Takes either a file name of student info, or a Canvas course id and authentication token, and load student group info. See function definitions for more info."
   ]
  },
  {
   "cell_type": "code",
   "execution_count": 3,
   "metadata": {},
   "outputs": [],
   "source": [
    "# Canvas authorization token - should be generated by user on Canvas and copy-pasted here\n",
    "canvas_auth_token='1876~Uzdv3Ne9YYUDLVsPacDqCwgUPn2KpyTyKvxoJUjqPMJlsWr1d6o6xarnXUNLopBX'\n",
    "course_id=60034\n",
    "\n",
    "filename='test_file.csv'\n",
    "\n",
    "#Choose how you load student info by commenting out either of these\n",
    "students=load_students_from_canvas_course(course_id, canvas_auth_token)\n",
    "#students=load_students_from_file(filename)"
   ]
  },
  {
   "cell_type": "markdown",
   "metadata": {},
   "source": [
    "Algorithm to assign peer reviews. Requires one of the above functions to have been run to get student info from either Canvas or file. The default number of reviews per student is 2, but can be changed below.\n",
    "\n",
    "This algorithm ensures that each video is reviewed the appropriate number of times (rather than assigning videos randomly, which can lead to large distribution in the number of times each video is reviewed), and also that a student is not assigned  duplicate reviews, or their own video to review."
   ]
  },
  {
   "cell_type": "code",
   "execution_count": 7,
   "metadata": {
    "scrolled": true
   },
   "outputs": [],
   "source": [
    "students.sort(key=lambda x: x[0])# Sort student list by name\n",
    "group_ids=list(set([x[1] for x in students])) # Grabs set of all possible group ids\n",
    "num_groups=len(group_ids)\n",
    "reviews_per_student=2\n",
    "\n",
    "# Generate the entire pool of reviews at once, to guarantee each video is in the pool\n",
    "# a minimum number of times. Some groups will get one extra review, depending on\n",
    "# the ratio of total reviews to the number of groups.\n",
    "initial_pool=[group_ids[ip%num_groups] for ip in range(reviews_per_student*len(students))]\n",
    "\n",
    "# Initialize the results array, where each element has the format:\n",
    "# (name, group, [list of videos to review])\n",
    "initial_results=[(stdnt[0], stdnt[1], reviews_per_student*[None])for stdnt in students]\n",
    "\n",
    "success=False\n",
    "while success==False:\n",
    "    success=True\n",
    "    #loop=loop+1\n",
    "    pool=copy.copy(initial_pool)\n",
    "    results=copy.copy(initial_results)\n",
    "    for result in results:\n",
    "        if success:\n",
    "            for i in range(reviews_per_student):\n",
    "                possible_choices=list(set([p for p in pool if (p!= result[1] and p not in result[2])]))\n",
    "                if len(possible_choices)==0:\n",
    "                    # We've encountered a state where a student can't be assigned enough reviews,\n",
    "                    # so we should start over.\n",
    "                    success=False\n",
    "                    break\n",
    "                else:\n",
    "                    choice=random.choice(possible_choices)\n",
    "                    pool.remove(choice)\n",
    "                    result[2][i]=choice\n",
    "        else:\n",
    "            break\n",
    "\n",
    "[a[2].sort() for a in results]\n",
    "# If a student was somehow assigned their own group, or assigned duplicate reviews,\n",
    "# that will be printed here\n",
    "for result in results:\n",
    "    if (result[1] in result[2]) or len(result[2]) != len(list(set(result[2]))):\n",
    "        print result\n",
    "all_vids=list(chain(*[b[2] for b in results]))\n",
    "counts=[all_vids.count(item) for item in set(all_vids)]\n",
    "final_counts=[(idx,counts.count(idx)) for idx in set(counts)]\n",
    "final_results=copy.deepcopy(results)"
   ]
  },
  {
   "cell_type": "markdown",
   "metadata": {
    "scrolled": true
   },
   "source": [
    "If you used Canvas to get student info, you can also use Canvas to send out emails informing the students which videos they are to peer-review. The command to do so is commented out below to avoid accidentally sending out a mass email.\n",
    "\n",
    "Before running this command, please double-check the function's code (defined along with the other functions in the 2nd cell of this notebook), and verify that the Canvas domain is correct, and that the email subject and body are to your liking. Once you've done so, you can uncomment and run the function below."
   ]
  },
  {
   "cell_type": "code",
   "execution_count": null,
   "metadata": {
    "collapsed": true
   },
   "outputs": [],
   "source": [
    "#email_students_in_canvas(final_results, course_id, canvas_auth_token)\n"
   ]
  }
 ],
 "metadata": {
  "anaconda-cloud": {},
  "kernelspec": {
   "display_name": "Python 2",
   "language": "python",
   "name": "python2"
  },
  "language_info": {
   "codemirror_mode": {
    "name": "ipython",
    "version": 2
   },
   "file_extension": ".py",
   "mimetype": "text/x-python",
   "name": "python",
   "nbconvert_exporter": "python",
   "pygments_lexer": "ipython2",
   "version": "2.7.14"
  }
 },
 "nbformat": 4,
 "nbformat_minor": 1
}
