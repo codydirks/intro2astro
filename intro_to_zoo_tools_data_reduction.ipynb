{
 "cells": [
  {
   "cell_type": "code",
   "execution_count": 1,
   "metadata": {
    "collapsed": true
   },
   "outputs": [],
   "source": [
    "import pandas as pd\n",
    "\n",
    "# Check if a value can be mapped to a float\n",
    "def check_input(value):\n",
    "    try:\n",
    "        float(value)\n",
    "        return True\n",
    "    except ValueError:\n",
    "        return False"
   ]
  },
  {
   "cell_type": "code",
   "execution_count": null,
   "metadata": {
    "collapsed": true
   },
   "outputs": [],
   "source": [
    "infile='introduction-to-the-zoo-tools-classifications.csv'\n",
    "outfile='zoo_tools_results.csv'\n",
    "workflow='workflow v4 - use this'\n",
    "all_data=pd.read_csv(infile)\n",
    "workflow_data=all_data.groupby('workflow_name').get_group(workflow)\n",
    "results=pd.DataFrame({'Home Latitude':[],\n",
    "                     'Home Longitude':[],\n",
    "                     'Institution Latitude':[],\n",
    "                     'Institution Longitude':[]\n",
    "                     })\n",
    "for i in range(len(workflow_data)):\n",
    "    tasks=pd.read_json(workflow_data['annotations'].iloc[i])['value'].iloc[0]\n",
    "\n",
    "    # Since tasks alternate numerical values / NSEW options,\n",
    "    # even indices give numerical values, odd indices give NSEW choices\n",
    "    home_lat,home_lon,inst_lat,inst_lon=[tasks[i]['value'] for i in (0,2,4,6)]\n",
    "    home_lat_ns,home_lon_ew,inst_lat_ns,inst_lon_ew=[tasks[i]['value'][0]['label'] for i in (1,3,5,7)]\n",
    "\n",
    "    # Since eye/hair color are optional, need to check that a response exists\n",
    "    # before parsing.\n",
    "    #eye_col_task=tasks[8]['value'][0]\n",
    "    #if len(eye_col_task)>1:\n",
    "    #    eye_col=eye_col_task['label']\n",
    "    #else:\n",
    "    #    eye_col='N/A'\n",
    "\n",
    "    #hair_col_task=tasks[9]['value'][0]\n",
    "    #if len(hair_col_task)>1:\n",
    "    #    hair_col=hair_col_task['label']\n",
    "    #else:\n",
    "    #    hair_col='N/A'\n",
    "\n",
    "    # Check that all numerical inputs are a single number that can be mapped to a float\n",
    "    if all([check_input(x) for x in (home_lat,home_lon,inst_lat,inst_lon)]):\n",
    "        home_lat,home_lon,inst_lat,inst_lon=map(float,[home_lat,home_lon,inst_lat,inst_lon])\n",
    "\n",
    "        # Use the NSEW inputs to convert numerical values to positive/negative\n",
    "        # Since South/West lat/lons could be input as negative values, also check if\n",
    "        # the value is already the appropriate sign\n",
    "        if home_lat >0 and home_lat_ns=='South':\n",
    "            home_lat=-home_lat\n",
    "        if home_lon >0 and home_lon_ew=='West':\n",
    "            home_lon=-home_lon\n",
    "        if inst_lat >0 and inst_lat_ns=='South':\n",
    "            inst_lat=-inst_lat\n",
    "        if inst_lon >0 and inst_lon_ew=='West':\n",
    "            inst_lon=-inst_lon\n",
    "\n",
    "        new_row=pd.DataFrame({'Home Latitude':[home_lat],\n",
    "                     'Home Longitude':[home_lon],\n",
    "                     'Institution Latitude':[inst_lat],\n",
    "                     'Institution Longitude':[inst_lon]\n",
    "                     })\n",
    "        results=pd.concat([results,new_row])\n",
    "\n",
    "\n",
    "# Correctly reorders columns and resets indices for neatness\n",
    "results=results[['Home Latitude',\n",
    "                 'Home Longitude',\n",
    "                 'Institution Latitude',\n",
    "                 'Institution Longitude']].reset_index(drop=True)\n",
    "results.to_csv(outfile,index=False)\n"
   ]
  }
 ],
 "metadata": {
  "anaconda-cloud": {},
  "kernelspec": {
   "display_name": "Python [astroconda]",
   "language": "python",
   "name": "Python [astroconda]"
  },
  "language_info": {
   "codemirror_mode": {
    "name": "ipython",
    "version": 2
   },
   "file_extension": ".py",
   "mimetype": "text/x-python",
   "name": "python",
   "nbconvert_exporter": "python",
   "pygments_lexer": "ipython2",
   "version": "2.7.12"
  }
 },
 "nbformat": 4,
 "nbformat_minor": 2
}
