{
 "cells": [
  {
   "cell_type": "code",
   "execution_count": null,
   "metadata": {
    "collapsed": true
   },
   "outputs": [],
   "source": [
    "import pandas as pd\n",
    "import numpy as np\n",
    "import matplotlib.pyplot as plt\n",
    "% matplotlib inline"
   ]
  },
  {
   "cell_type": "code",
   "execution_count": null,
   "metadata": {
    "collapsed": true
   },
   "outputs": [],
   "source": [
    "def get_classification(row):\n",
    "    # Takes an entire row (i.e. a single classification) and grabs\n",
    "    # the data relevant to the line identification\n",
    "    annotation_json=row['annotations']\n",
    "    metadata_json='['+row['metadata']+']'\n",
    "    json_object=pd.read_json(annotation_json)['value'][0]\n",
    "    metadata_object=pd.read_json(metadata_json)['subject_dimensions'][0][0]\n",
    "    nw=metadata_object['naturalWidth'] # Need this value in case students rescaled the window\n",
    "    if json_object and len(json_object[0])==7:# Error checks for a valid classification\n",
    "        xleft = json_object[0]['x']\n",
    "        width = json_object[0]['width']\n",
    "    else:\n",
    "        xleft = np.nan\n",
    "        width = np.nan\n",
    "    return {'xleft' : xleft, 'width' : width, 'nw': nw}\n",
    "\n",
    "def get_galaxy_metadata(subject_data_json):\n",
    "    json_object=pd.read_json(subject_data_json, orient='index')\n",
    "    ra = json_object['RA'].values[0]\n",
    "    dec = json_object['Dec'].values[0]\n",
    "    z = json_object['Redshift'].values[0]\n",
    "    galID = json_object['dr7objid'].values[0]\n",
    "    elliptical = bool(json_object['elliptical'].values[0])\n",
    "    return {'ra' : ra, 'dec' : dec, 'z' : z, 'galID' : galID, 'elliptical' : elliptical}\n",
    "\n",
    "def calc_lambda_central(classification_dict):\n",
    "    # Input is a classification dictionary with x_left, width, and natural window width\n",
    "    xleft = classification_dict['xleft']\n",
    "    width = classification_dict['width']\n",
    "    nw = classification_dict['nw']\n",
    "    xmin = int((108./1152.)*nw)# These hardcoded pixel values represent the default window sizes\n",
    "    xmax = int((1081./1152.)*nw)# If the actual window was sized differently, the factor of 'nw' scales the result appropriately\n",
    "    lambdamin = 380.\n",
    "    lambdamax = 500.\n",
    "    lamperpix = (lambdamax - lambdamin) / (xmax - xmin)\n",
    "    lambdacen = (xleft + (width / 2.) - xmin) * lamperpix + lambdamin\n",
    "    return lambdacen"
   ]
  },
  {
   "cell_type": "code",
   "execution_count": null,
   "metadata": {
    "collapsed": true
   },
   "outputs": [],
   "source": [
    "# Raw input file exported from the project builder\n",
    "infile = \"intro2astro-hubbles-law-classifications.csv\"\n",
    "\n",
    "# Name of output csv file where results will be stored\n",
    "outfile='NU_astro_120.csv'\n",
    "\n",
    "# Name of workflow to be analyzed\n",
    "workflow='NU Highlights of Astronomy'\n",
    "all_raw_data = pd.read_csv(infile)"
   ]
  },
  {
   "cell_type": "code",
   "execution_count": null,
   "metadata": {
    "collapsed": false
   },
   "outputs": [],
   "source": [
    "all_raw_data['classification'] = all_raw_data.apply(get_classification,axis=1)\n",
    "all_raw_data['galaxy_metadata'] = all_raw_data['subject_data'].apply(get_galaxy_metadata)\n",
    "all_raw_data['lambdacen'] = all_raw_data['classification'].apply(calc_lambda_central)\n",
    "all_raw_data['galaxy_id'] = [i['galID'] for i in all_raw_data['galaxy_metadata']]"
   ]
  },
  {
   "cell_type": "code",
   "execution_count": null,
   "metadata": {
    "collapsed": false
   },
   "outputs": [],
   "source": [
    "# Select the workflow we are concerned with\n",
    "section_groups = all_raw_data.groupby('workflow_name')\n",
    "workflow_data = section_groups.get_group(workflow)"
   ]
  },
  {
   "cell_type": "code",
   "execution_count": null,
   "metadata": {
    "collapsed": false
   },
   "outputs": [],
   "source": [
    "# Create new columns for purpose of filtering based on time\n",
    "# I wanted to be able to filter on time because some students found\n",
    "# the link to the project in Canvas before the instructor had demonstrated\n",
    "# what to do, and thus gave bad data. So, this would be a way to throw out\n",
    "# data that was recorded before a certain date and hour. For now though,\n",
    "# these lines are commented out, and all data is taken in.\n",
    "\n",
    "#workflow_data['day']=[int(i.split()[0].split('-')[-1]) for i in workflow_data['created_at']]\n",
    "#workflow_data['hour']=[int(i.split()[1].split(':')[0]) for i in workflow_data['created_at']]\n",
    "#workflow_data=workflow_data.loc[(workflow_data['day']>23) & (workflow_data['hour']>0)]"
   ]
  },
  {
   "cell_type": "code",
   "execution_count": null,
   "metadata": {
    "collapsed": false
   },
   "outputs": [],
   "source": [
    "# Group data by galaxy id\n",
    "gal_groups = workflow_data.groupby('galaxy_id')\n",
    "\n",
    "# for each galaxy, calculate the average central wavelength\n",
    "galaxy_names = [name for name, group in gal_groups]\n",
    "nclass = []\n",
    "lambdacen = []\n",
    "lambdaerr = []\n",
    "ra = []\n",
    "dec = []\n",
    "z = []\n",
    "\n",
    "for galname in galaxy_names:\n",
    "    lambdacen.append(gal_groups.get_group(galname)['lambdacen'].mean())\n",
    "    lambdaerr.append(gal_groups.get_group(galname)['lambdacen'].std())\n",
    "    ra.append(gal_groups.get_group(galname)['galaxy_metadata'].iloc[0]['ra'])\n",
    "    dec.append(gal_groups.get_group(galname)['galaxy_metadata'].iloc[0]['dec'])\n",
    "    z.append(gal_groups.get_group(galname)['galaxy_metadata'].iloc[0]['z'])\n",
    "    nclass.append(gal_groups.get_group(galname)['lambdacen'].count())\n",
    "\n",
    "# Approximate the distances based on the redshifts\n",
    "dist = [i * 3e5 / 68 for i in z]"
   ]
  },
  {
   "cell_type": "code",
   "execution_count": null,
   "metadata": {
    "collapsed": true
   },
   "outputs": [],
   "source": [
    "# create new dataframe with counts of classifications for each galaxy\n",
    "results = pd.DataFrame({'Galaxy ID' : galaxy_names,\n",
    "                   'RA' : ra,\n",
    "                   'Dec' : dec,\n",
    "                   'Dist' : dist,\n",
    "                   'N Class' : nclass,\n",
    "                   'lambda_av' : lambdacen,\n",
    "                   'lambda_err' : lambdaerr})\n",
    "results = results[['Galaxy ID', 'N Class', 'RA', 'Dec', 'Dist', 'lambda_av', 'lambda_err']]"
   ]
  },
  {
   "cell_type": "code",
   "execution_count": null,
   "metadata": {
    "collapsed": true
   },
   "outputs": [],
   "source": [
    "# export data frame as csv file\n",
    "results.to_csv(outfile, index=False)"
   ]
  },
  {
   "cell_type": "code",
   "execution_count": null,
   "metadata": {
    "collapsed": false
   },
   "outputs": [],
   "source": [
    "# Visualize results as Hubble diagram\n",
    "fig=plt.figure(1, figsize=(12,9))\n",
    "subplt=plt.subplot(111)\n",
    "subplt.set_xlim(-10,700)\n",
    "subplt.set_ylim(-1000,50000)\n",
    "lam_rest=393.37\n",
    "dist=np.array(results['Dist'])\n",
    "vs=300000*np.array([(i-393.37)/393.37 for i in results['lambda_av']])\n",
    "ps=np.polyfit(dist,vs,1)\n",
    "print ps\n",
    "subplt.plot(dist,vs,'bo')\n",
    "goldenx=np.linspace(0,800,20)\n",
    "goldeny=68.*goldenx\n",
    "subplt.plot(goldenx,goldeny,color='k',ls='--',lw=1)"
   ]
  },
  {
   "cell_type": "code",
   "execution_count": null,
   "metadata": {
    "collapsed": true
   },
   "outputs": [],
   "source": []
  }
 ],
 "metadata": {
  "anaconda-cloud": {},
  "kernelspec": {
   "display_name": "Python [astroconda]",
   "language": "python",
   "name": "Python [astroconda]"
  },
  "language_info": {
   "codemirror_mode": {
    "name": "ipython",
    "version": 2
   },
   "file_extension": ".py",
   "mimetype": "text/x-python",
   "name": "python",
   "nbconvert_exporter": "python",
   "pygments_lexer": "ipython2",
   "version": "2.7.12"
  }
 },
 "nbformat": 4,
 "nbformat_minor": 0
}
