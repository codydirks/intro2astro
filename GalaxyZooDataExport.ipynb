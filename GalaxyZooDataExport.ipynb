{
 "cells": [
  {
   "cell_type": "code",
   "execution_count": null,
   "metadata": {},
   "outputs": [],
   "source": [
    "import numpy as np\n",
    "import pandas as pd\n",
    "from astroquery.sdss import SDSS\n",
    "import matplotlib.pyplot as plt\n",
    "% matplotlib inline"
   ]
  },
  {
   "cell_type": "code",
   "execution_count": null,
   "metadata": {
    "collapsed": true
   },
   "outputs": [],
   "source": [
    "def get_stats(choices_dict):\n",
    "    # Input is a dict with classification options as the keys, and each option's count as integer values\n",
    "    options=choices_dict.keys()\n",
    "    n_tot=sum(choices_dict.values())\n",
    "    stats_dict={}\n",
    "    for option in options:\n",
    "        stats_dict['p_'+option]=round(float(choices_dict[option])/float(n_tot),4)\n",
    "        \n",
    "    return stats_dict"
   ]
  },
  {
   "cell_type": "code",
   "execution_count": null,
   "metadata": {
    "collapsed": true
   },
   "outputs": [],
   "source": [
    "# Output file from Panoptes\n",
    "infile='galaxy-zoo-in-astronomy-101-classifications.csv'\n",
    "\n",
    "# Name of the specific workflow to grab and export.\n",
    "workflow_name = 'NU Highlights of Astronomy'\n",
    "\n",
    "all_raw_data=pd.read_csv(infile)"
   ]
  },
  {
   "cell_type": "code",
   "execution_count": null,
   "metadata": {},
   "outputs": [],
   "source": [
    "# Grab data from our workflow\n",
    "workflow_data=all_raw_data.groupby('workflow_name').get_group(workflow_name)\n",
    "\n",
    "# This code chunk will print each user and how many classifications they did\n",
    "#for usr in workflow_data.user_name.unique():\n",
    "#    usr_data=workflow_data.groupby('user_name').get_group(usr)\n",
    "#    print '{:>13}'.format(usr[0:13]), len(usr_data),\n",
    "\n",
    "# Group galaxies by their galaxy ids\n",
    "galaxy_groups=workflow_data.groupby('subject_ids')"
   ]
  },
  {
   "cell_type": "code",
   "execution_count": null,
   "metadata": {},
   "outputs": [],
   "source": [
    "# Create empty dataframes to fill, one for our classification data, and one for\n",
    "# the data from the original Galaxy Zoo for comparison\n",
    "workflow_results=pd.DataFrame({'Galaxy ID':[],\n",
    "                        'N_Votes':[],\n",
    "                        'p_ell':[],\n",
    "                        'p_sp':[],\n",
    "                        'p_mrg':[],\n",
    "                        'p_oth':[],\n",
    "                        'g_mag':[],\n",
    "                        'r_mag':[],\n",
    "                        'z':[]})\n",
    "\n",
    "zoo_results=pd.DataFrame({'Galaxy ID':[],\n",
    "                        'N_Votes':[],\n",
    "                        'p_ell':[],\n",
    "                        'p_sp':[],\n",
    "                        'p_mrg':[],\n",
    "                        'p_oth':[],\n",
    "                        'g_mag':[],\n",
    "                        'r_mag':[],\n",
    "                        'z':[]})\n",
    "\n",
    "# Iterate through each id to find that galaxy's stats\n",
    "for gx in workflow_data.subject_ids.unique():\n",
    "    subject_classifications=galaxy_groups.get_group(gx)\n",
    "    \n",
    "    # Get SDSS galaxy id from metadata, specifically image name\n",
    "    image_file=pd.read_json(subject_classifications.iloc[0]['subject_data'])[gx]['image_file']\n",
    "    gx_id=image_file[:-5]\n",
    "    #display(Image(filename='Activity2Images/'+image_file, width=200, height=200))\n",
    "    \n",
    "    # Count number of each type of classification, and get stats based on those numbers\n",
    "    choices={'Spiral':0,'Elliptical':0,'Merger':0,'Star/artifact':0}\n",
    "    for index,row in subject_classifications.iterrows():\n",
    "        choice=str(pd.read_json(row['annotations'])['value'].values[0])\n",
    "        if choice != 'nan':\n",
    "            choices[choice]+=1\n",
    "    stats_dict=get_stats(choices)\n",
    "    \n",
    "    # Perform SDSS SQL queries to determine magnitude and redshift for this galaxy.\n",
    "    mag_sql_query='select top 1 modelmag_g,modelmag_r from photoobjall where objid='+gx_id\n",
    "    z_sql_query='select top 1 z from specobjall where bestobjid='+gx_id\n",
    "    zooVotes_sql_query='select top 1 nvote_std,p_el,p_cs,p_mg,p_dk from zooVotes where objid='+gx_id\n",
    "    \n",
    "    mags=SDSS.query_sql(mag_sql_query).to_pandas()    \n",
    "    \n",
    "    # In case galaxy doesn't have a measured redshift, need to catch resulting SQL error\n",
    "    try:\n",
    "        z=SDSS.query_sql(z_sql_query)[0][0]\n",
    "    except:\n",
    "        z=np.nan # If no redshift, flag value\n",
    "        pass\n",
    "    \n",
    "    new_workflow_row=pd.DataFrame({'Galaxy ID':[gx_id],\n",
    "                        'N_Votes'    :[sum(choices.values())],\n",
    "                        'p_ell'      :[stats_dict['p_Elliptical']],\n",
    "                        'p_sp'       :[stats_dict['p_Spiral']],\n",
    "                        'p_mrg'      :[stats_dict['p_Merger']],\n",
    "                        'p_oth'      :[stats_dict['p_Star/artifact']],\n",
    "                        'g_mag'      :[round(mags['modelmag_g'].values[0],4)],\n",
    "                        'r_mag'      :[round(mags['modelmag_r'].values[0],4)],\n",
    "                        'z'          :[round(z,4)]\n",
    "                         })\n",
    "    workflow_results=pd.concat([workflow_results, new_workflow_row])\n",
    "    \n",
    "        \n",
    "    # Grabs original Galaxy Zoo voting data for the galaxy\n",
    "    zooVotes=SDSS.query_sql(zooVotes_sql_query).to_pandas()\n",
    "    \n",
    "    new_zoo_row=pd.DataFrame({'Galaxy ID':[gx_id],\n",
    "                        'N_Votes'    :[zooVotes['nvote_std'].values[0]],\n",
    "                        'p_ell'      :[zooVotes['p_el'].values[0]],\n",
    "                        'p_sp'       :[zooVotes['p_cs'].values[0]],\n",
    "                        'p_mrg'      :[zooVotes['p_mg'].values[0]],\n",
    "                        'p_oth'      :[zooVotes['p_dk'].values[0]],\n",
    "                        'g_mag'      :[round(mags['modelmag_g'].values[0],4)],\n",
    "                        'r_mag'      :[round(mags['modelmag_r'].values[0],4)],\n",
    "                        'z'          :[round(z,4)]\n",
    "                         })\n",
    "    zoo_results=pd.concat([zoo_results, new_zoo_row])\n",
    "    \n",
    "# Miscellaneous formatting stuff\n",
    "\n",
    "#Rearrange table to group appropriate columns together\n",
    "workflow_results=workflow_results[['Galaxy ID', 'N_Votes', 'p_ell', 'p_sp', 'p_mrg', 'p_oth', 'g_mag', 'r_mag', 'z']]\n",
    "zoo_results=zoo_results[['Galaxy ID', 'N_Votes', 'p_ell', 'p_sp', 'p_mrg', 'p_oth', 'g_mag', 'r_mag', 'z']]\n",
    "\n",
    "#Sort by Galaxy ID so we can quickly compare tables, and reset indices for neatness\n",
    "workflow_results=workflow_results.sort_values('Galaxy ID').reset_index(drop=True)\n",
    "zoo_results=zoo_results.sort_values('Galaxy ID').reset_index(drop=True)\n",
    "\n",
    "# Typecast these columns as ints for neatness\n",
    "for col in (['N_Votes']): \n",
    "    workflow_results[col] = workflow_results[col].astype(int)\n",
    "    zoo_results[col] = zoo_results[col].astype(int)\n",
    "workflow_results"
   ]
  },
  {
   "cell_type": "code",
   "execution_count": null,
   "metadata": {},
   "outputs": [],
   "source": [
    "# Display results. This display code only works in IPython notebooks\n",
    "consensus_cut=0.8\n",
    "consensus_sample =   [(i,r) for (i,r) in workflow_results.iterrows() if any(t>=consensus_cut for t in r[2:6])]\n",
    "non_consensus_sample=[(i,r) for (i,r) in workflow_results.iterrows() if not any(t>=consensus_cut for t in r[2:6])]\n",
    "for index, row in consensus_sample:\n",
    "    print 'ID:',row[0]\n",
    "    for col_name in workflow_results.columns.values[2:6]:\n",
    "        print '{:>5}'.format(col_name),\n",
    "    print\n",
    "    for item in row[2:6]:\n",
    "        print '{:>5}'.format(round(item,3)),\n",
    "    display(Image(filename='Activity2Images/'+str(int(row[0]))+'.jpeg', width=300, height=300))\n",
    "    print"
   ]
  },
  {
   "cell_type": "code",
   "execution_count": null,
   "metadata": {
    "collapsed": true
   },
   "outputs": [],
   "source": [
    "workflow_results.to_csv('Intro2Astro_GZ_workflow_output.csv')\n",
    "zoo_results.to_csv('Intro2Astro_GZ_zoo_output.csv')"
   ]
  },
  {
   "cell_type": "code",
   "execution_count": null,
   "metadata": {
    "collapsed": true
   },
   "outputs": [],
   "source": []
  }
 ],
 "metadata": {
  "anaconda-cloud": {},
  "kernelspec": {
   "display_name": "Python 2",
   "language": "python",
   "name": "python2"
  },
  "language_info": {
   "codemirror_mode": {
    "name": "ipython",
    "version": 2
   },
   "file_extension": ".py",
   "mimetype": "text/x-python",
   "name": "python",
   "nbconvert_exporter": "python",
   "pygments_lexer": "ipython2",
   "version": "2.7.14"
  }
 },
 "nbformat": 4,
 "nbformat_minor": 1
}
